{
  "nbformat": 4,
  "nbformat_minor": 0,
  "metadata": {
    "colab": {
      "provenance": []
    },
    "kernelspec": {
      "name": "python3",
      "display_name": "Python 3"
    },
    "language_info": {
      "name": "python"
    }
  },
  "cells": [
    {
      "cell_type": "code",
      "metadata": {
        "id": "SmmwIJlciWQS"
      },
      "source": [
        "import math\n",
        "\n",
        "import numpy as np\n",
        "import cv2"
      ],
      "execution_count": null,
      "outputs": []
    },
    {
      "cell_type": "code",
      "metadata": {
        "id": "Gl5frZO8ic9o"
      },
      "source": [
        "\n",
        "def taylor(hm, coord):\n",
        "    heatmap_width = hm.shape[0]\n",
        "    px = int(coord)\n",
        "    \n",
        "    if 1 < px < heatmap_width-2 :\n",
        "\n",
        "        dx  = 0.5 * (hm[px+1] - hm[px-1])\n",
        "        dxx = 0.25 * (hm[px+2] - 2 * hm[px] + hm[px-2])\n",
        "        derivative = np.matrix([dx])\n",
        "        hessian = np.matrix([dxx])\n",
        "        if dxx ** 2 != 0:\n",
        "            hessianinv = hessian.I\n",
        "            offset = -hessianinv * derivative\n",
        "            offset = np.squeeze(np.array(offset.T), axis=0)\n",
        "            coord += offset\n",
        "\n",
        "    return coord\n",
        "\n",
        "\n",
        "def gaussian_blur(hm, kernel):\n",
        "    border = (kernel - 1) // 2\n",
        "    # batch_size = hm.shape[0]\n",
        "    num_joints = 6\n",
        "    # height = hm.shape[2]\n",
        "    width = hm.shape[0]\n",
        "    origin_max = np.max(hm)\n",
        "    dr = np.zeros((width + 2 * border))\n",
        "    dr[border: -border] = hm.copy()\n",
        "    kernel_1d = cv2.getGaussianKernel( 4, 2 )\n",
        "    dr = cv2.filter2D(dr, -1, kernel_1d)[:,0]\n",
        "    hm = dr[border: -border].copy()\n",
        "    hm *= origin_max / np.max(hm)\n",
        "\n",
        "\n",
        "    return hm"
      ],
      "execution_count": null,
      "outputs": []
    },
    {
      "cell_type": "code",
      "metadata": {
        "colab": {
          "base_uri": "https://localhost:8080/"
        },
        "id": "pJigqXOkiyeq",
        "outputId": "abddee52-245a-4f91-ca92-874bc478da1f"
      },
      "source": [
        "hmap = np.asarray([0.1,0.3,0.5,0.7,0.4,0.5,0.2])  # The heatmap from each row of bottom branch representing the probabilities\n",
        "coord = np.asarray([1,2,3]) # The window i want to refine i.e around start(here 2)/end with centering \n",
        "prev_coord = coord\n",
        "hm = gaussian_blur(hmap, 3)\n",
        "hm = np.maximum(hmap, 1e-10)\n",
        "hm = np.log(hmap)\n",
        "# print(hm)\n",
        "new_coord = np.zeros_like(coord)\n",
        "for n in range(3):\n",
        "    new_coord[n] = taylor(hm, coord[n])\n",
        "print(\"previous window\",prev_coord)\n",
        "print(\"refined window\",new_coord) # The window i got after refinement\n",
        "print(\"previous heatmap\", hmap)\n",
        "for i in range(3):\n",
        "    hmap[prev_coord[i]] = hmap[new_coord[i]]\n",
        "print(\"current heatmap\",hmap)"
      ],
      "execution_count": null,
      "outputs": [
        {
          "output_type": "stream",
          "text": [
            "previous window [1 2 3]\n",
            "refined window [1 2 2]\n",
            "previous heatmap [0.1 0.3 0.5 0.7 0.4 0.5 0.2]\n",
            "current heatmap [0.1 0.3 0.5 0.5 0.4 0.5 0.2]\n"
          ],
          "name": "stdout"
        }
      ]
    },
    {
      "cell_type": "code",
      "metadata": {
        "id": "uTIvsJP0na8N"
      },
      "source": [],
      "execution_count": null,
      "outputs": []
    }
  ]
}